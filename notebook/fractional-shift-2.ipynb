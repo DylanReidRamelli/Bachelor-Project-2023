{
 "cells": [
  {
   "attachments": {},
   "cell_type": "markdown",
   "metadata": {},
   "source": []
  },
  {
   "cell_type": "code",
   "execution_count": 85,
   "metadata": {},
   "outputs": [],
   "source": [
    "import numpy as np\n",
    "from matplotlib import pyplot as plt"
   ]
  },
  {
   "cell_type": "code",
   "execution_count": 86,
   "metadata": {},
   "outputs": [],
   "source": [
    "n = 150\n",
    "x0 = n * 0.5\n",
    "x = np.arange(n)"
   ]
  },
  {
   "cell_type": "code",
   "execution_count": 89,
   "metadata": {},
   "outputs": [
    {
     "data": {
      "text/plain": [
       "<StemContainer object of 3 artists>"
      ]
     },
     "execution_count": 89,
     "metadata": {},
     "output_type": "execute_result"
    },
    {
     "data": {
      "image/png": "[encoded data removed]",
      "text/plain": [
       "<Figure size 640x480 with 1 Axes>"
      ]
     },
     "metadata": {},
     "output_type": "display_data"
    }
   ],
   "source": [
    "z = x < x0\n",
    "plt.xlim(x0 - 20, x0 + 20)\n",
    "plt.stem(x,z, basefmt=\"gray\")"
   ]
  },
  {
   "cell_type": "code",
   "execution_count": 91,
   "metadata": {},
   "outputs": [],
   "source": [
    "def wavenum(i) : return (i + n // 2) % n - n // 2"
   ]
  },
  {
   "cell_type": "code",
   "execution_count": 92,
   "metadata": {},
   "outputs": [
    {
     "name": "stdout",
     "output_type": "stream",
     "text": [
      "H: (0.7071067811865476+0.7071067811865475j) (0.7071067811865476-0.7071067811865475j)\n",
      "new H: (0.7071067811865476+0j)\n"
     ]
    }
   ],
   "source": [
    "# fractional shift\n",
    "delta = 0.25\n",
    "H = np.exp(-2j * wavenum(x) / n * np.pi * delta)\n",
    "if n & 1:\n",
    "    idx0, idx1 = n//2, 1 + n//2\n",
    "    #ambiguous = np.exp(-2j * (n - 1) / n * np.pi * delta)\n",
    "    print(\"wavenums\", wavenum(idx0), wavenum(idx1))\n",
    "    print(\"H:\", H[idx0], H[idx1])\n",
    "else :\n",
    "    idx0 = n//2\n",
    "    ambiguous = np.exp(-2j * (n//2) / n * np.pi * delta)\n",
    "    print(\"H:\", H[idx0], ambiguous)\n",
    "    H[idx0] = 0.5 * (ambiguous + 1/ambiguous)\n",
    "    print(\"new H:\", H[idx0])"
   ]
  },
  {
   "cell_type": "code",
   "execution_count": null,
   "metadata": {},
   "outputs": [],
   "source": [
    "#lanczos smoothing\n",
    "G = np.zeros(n)\n",
    "M = 0\n",
    "#we pick the support of the smoothing window depending on the fract\n",
    "#ional shift\n",
    "mydistance = np.abs(np.mod(delta, 1) - 0.5)\n",
    "if mydistance < 0.5 - 0.03125:\n",
    "    M = 1\n",
    "if mydistance < 0.5 - 0.0125:\n",
    "    M = 2\n",
    "if mydistance < 0.5 - 0.25:\n",
    "    M = 3\n",
    "print(\"M is \", M)\n",
    "if M:\n",
    "    for i in range(n):\n",
    "        k = wavenum(i)\n",
    "        a = 2 * np.pi / n * k * M\n",
    "        #weighted average of (1/2 + 1/2 cos(pi / M * x))\n",
    "        if True:\n",
    "            if 4 * k == -n or 4 * k == n:\n",
    "                G[i] += 1\n",
    "            else:\n",
    "                G[i] += 2 * a * np.sin(a) / (np.pi**2 - a**2)\n",
    "        if True:\n",
    "            if i:\n",
    "                G[i] += 2 * np.sin(a) / (a)\n",
    "            else:\n",
    "                G[i] += 2\n",
    "        G[i] *= 0.5\n",
    "        if k == -n//2 :\n",
    "            print(\"fs: \", G[i], np.sin(-a) / -a)\n",
    "else :\n",
    "    G = np.ones(n)\n",
    "#plot frequency response\n",
    "from numpy import fft as fft\n",
    "plt.plot(np.arange(n) - n//2, fft.fftshift(G))"
   ]
  }
 ],
 "metadata": {
  "kernelspec": {
   "display_name": "Python 3 (ipykernel)",
   "language": "python",
   "name": "python3"
  },
  "language_info": {
   "codemirror_mode": {
    "name": "ipython",
    "version": 3
   },
   "file_extension": ".py",
   "mimetype": "text/x-python",
   "name": "python",
   "nbconvert_exporter": "python",
   "pygments_lexer": "ipython3",
   "version": "3.11.3"
  },
  "orig_nbformat": 4
 },
 "nbformat": 4,
 "nbformat_minor": 2
}
